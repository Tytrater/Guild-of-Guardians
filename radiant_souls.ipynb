{
 "cells": [
  {
   "cell_type": "code",
   "execution_count": 73,
   "metadata": {},
   "outputs": [],
   "source": [
    "import pandas as pd\n",
    "import statsmodels.api as sm\n",
    "\n",
    "#df = pd.read_csv('Radiant_Souls.csv')\n",
    "\n",
    "# Calculate differences in Souls and Chance\n",
    "df['Souls_diff'] = df['Souls'].diff()\n",
    "df['Chance_diff'] = df['Chance'].diff()\n",
    "\n",
    "# Calculate marginal effect as the ratio of Chance_diff to Souls_diff\n",
    "df['Marginal_Effect'] = df['Chance_diff'] / df['Souls_diff']\n",
    "\n",
    "# Drop NaN values resulting from the differences\n",
    "df.dropna(inplace=True)\n",
    "df = df.iloc[1:-1]\n",
    "\n",
    "# Split dataframe by Rarity\n",
    "rare = df[df['Rarity'] == 'Rare']\n",
    "epic = df[df['Rarity'] == 'Epic']\n",
    "legendary = df[df['Rarity'] == 'Legendary']\n",
    "\n",
    "# Create fig for plotting\n",
    "fig, (ax1, ax2, ax3) = plt.subplots(nrows=1,ncols=3,figsize=(15,5))\n",
    "\n",
    "# Plot for df1\n",
    "ax1.plot(rare['Souls'], rare['Marginal_Effect'], marker='o', linestyle='-', color='b')\n",
    "ax1.set_title('Rare')\n",
    "ax1.set_xlabel('X')\n",
    "ax1.set_ylabel('Marginal_Effect')\n",
    "\n",
    "# Plot for df2\n",
    "ax2.plot(epic['Souls'], epic['Marginal_Effect'], marker='s', linestyle='--', color='g')\n",
    "ax2.set_title('Epic')\n",
    "ax2.set_xlabel('Souls')\n",
    "ax2.set_ylabel('Marginal_Effect')\n",
    "\n",
    "# Plot for df3\n",
    "ax3.plot(legendary['Souls'], legendary['Marginal_Effect'], marker='^', linestyle=':', color='r')\n",
    "ax3.set_title('Legendary')\n",
    "ax3.set_xlabel('Souls')\n",
    "ax3.set_ylabel('Marginal_Effect')\n",
    "\n",
    "# Adjust layout\n",
    "plt.tight_layout()\n",
    "\n",
    "#Save plot to pdf\n",
    "plt.savefig('plot')\n",
    "\n",
    "# Display the plot\n",
    "plt.show()"
   ]
  }
 ],
 "metadata": {
  "kernelspec": {
   "display_name": "Python 3 (ipykernel)",
   "language": "python",
   "name": "python3"
  },
  "language_info": {
   "codemirror_mode": {
    "name": "ipython",
    "version": 3
   },
   "file_extension": ".py",
   "mimetype": "text/x-python",
   "name": "python",
   "nbconvert_exporter": "python",
   "pygments_lexer": "ipython3",
   "version": "3.11.7"
  }
 },
 "nbformat": 4,
 "nbformat_minor": 2
}
