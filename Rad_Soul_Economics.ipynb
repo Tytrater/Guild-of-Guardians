{
 "cells": [
  {
   "cell_type": "code",
   "execution_count": 1,
   "metadata": {},
   "outputs": [
    {
     "data": {
      "text/plain": [
       "'Z:\\\\'"
      ]
     },
     "execution_count": 1,
     "metadata": {},
     "output_type": "execute_result"
    }
   ],
   "source": [
    "import pandas as pd\n",
    "import os\n",
    "os.getcwd()\n",
    "# os.listdir()"
   ]
  },
  {
   "cell_type": "code",
   "execution_count": 30,
   "metadata": {},
   "outputs": [
    {
     "name": "stdout",
     "output_type": "stream",
     "text": [
      "['mountain']\n"
     ]
    },
    {
     "data": {
      "text/html": [
       "<div>\n",
       "<style scoped>\n",
       "    .dataframe tbody tr th:only-of-type {\n",
       "        vertical-align: middle;\n",
       "    }\n",
       "\n",
       "    .dataframe tbody tr th {\n",
       "        vertical-align: top;\n",
       "    }\n",
       "\n",
       "    .dataframe thead th {\n",
       "        text-align: right;\n",
       "    }\n",
       "</style>\n",
       "<table border=\"1\" class=\"dataframe\">\n",
       "  <thead>\n",
       "    <tr style=\"text-align: right;\">\n",
       "      <th></th>\n",
       "      <th>size</th>\n",
       "      <th>quant</th>\n",
       "      <th>price(GoG)</th>\n",
       "      <th>price_unit</th>\n",
       "    </tr>\n",
       "  </thead>\n",
       "  <tbody>\n",
       "    <tr>\n",
       "      <th>0</th>\n",
       "      <td>handful</td>\n",
       "      <td>40</td>\n",
       "      <td>32.37</td>\n",
       "      <td>0.80925</td>\n",
       "    </tr>\n",
       "    <tr>\n",
       "      <th>1</th>\n",
       "      <td>chest</td>\n",
       "      <td>600</td>\n",
       "      <td>432.33</td>\n",
       "      <td>0.72055</td>\n",
       "    </tr>\n",
       "    <tr>\n",
       "      <th>2</th>\n",
       "      <td>mountain</td>\n",
       "      <td>3000</td>\n",
       "      <td>1799.85</td>\n",
       "      <td>0.59995</td>\n",
       "    </tr>\n",
       "  </tbody>\n",
       "</table>\n",
       "</div>"
      ],
      "text/plain": [
       "       size  quant  price(GoG)  price_unit\n",
       "0   handful     40       32.37     0.80925\n",
       "1     chest    600      432.33     0.72055\n",
       "2  mountain   3000     1799.85     0.59995"
      ]
     },
     "execution_count": 30,
     "metadata": {},
     "output_type": "execute_result"
    }
   ],
   "source": [
    "sku_seal = ['handful','chest','mountain']\n",
    "sku_quant = [40,600,3000]\n",
    "sku_price = [32.37,432.33,1799.85]\n",
    "# sku = dict(sku_seal:sku_quant)\n",
    "sku = pd.DataFrame(\n",
    "    {'size': sku_seal,\n",
    "     'quant':sku_quant,\n",
    "     'price(GoG)':sku_price\n",
    "     })\n",
    "sku['price_unit'] = sku['price(GoG)']/sku['quant']\n",
    "min = sku[sku['price_unit'] == sku['price_unit'].min()].index\n",
    "size = sku['size'][min].values\n",
    "print(size)\n",
    "sku"
   ]
  },
  {
   "cell_type": "code",
   "execution_count": null,
   "metadata": {},
   "outputs": [],
   "source": [
    "cost_enlighten_rare = "
   ]
  },
  {
   "cell_type": "code",
   "execution_count": 13,
   "metadata": {},
   "outputs": [
    {
     "data": {
      "text/html": [
       "<div>\n",
       "<style scoped>\n",
       "    .dataframe tbody tr th:only-of-type {\n",
       "        vertical-align: middle;\n",
       "    }\n",
       "\n",
       "    .dataframe tbody tr th {\n",
       "        vertical-align: top;\n",
       "    }\n",
       "\n",
       "    .dataframe thead th {\n",
       "        text-align: right;\n",
       "    }\n",
       "</style>\n",
       "<table border=\"1\" class=\"dataframe\">\n",
       "  <thead>\n",
       "    <tr style=\"text-align: right;\">\n",
       "      <th></th>\n",
       "      <th>Rarity</th>\n",
       "      <th>price</th>\n",
       "      <th>Soul_income</th>\n",
       "      <th>Soul_expense</th>\n",
       "      <th>Seals_Ascension</th>\n",
       "      <th>Soul_Value_Market</th>\n",
       "      <th>Soul_Value_Recycle</th>\n",
       "      <th>Seals_value</th>\n",
       "    </tr>\n",
       "  </thead>\n",
       "  <tbody>\n",
       "    <tr>\n",
       "      <th>0</th>\n",
       "      <td>Rare</td>\n",
       "      <td>1.3</td>\n",
       "      <td>50</td>\n",
       "      <td>150</td>\n",
       "      <td>19</td>\n",
       "      <td>38.461538</td>\n",
       "      <td>115.384615</td>\n",
       "      <td>14.615385</td>\n",
       "    </tr>\n",
       "    <tr>\n",
       "      <th>1</th>\n",
       "      <td>Epic</td>\n",
       "      <td>2.5</td>\n",
       "      <td>250</td>\n",
       "      <td>1500</td>\n",
       "      <td>30</td>\n",
       "      <td>100.000000</td>\n",
       "      <td>600.000000</td>\n",
       "      <td>12.000000</td>\n",
       "    </tr>\n",
       "    <tr>\n",
       "      <th>2</th>\n",
       "      <td>Legendary</td>\n",
       "      <td>14.0</td>\n",
       "      <td>2000</td>\n",
       "      <td>7960</td>\n",
       "      <td>110</td>\n",
       "      <td>142.857143</td>\n",
       "      <td>568.571429</td>\n",
       "      <td>7.857143</td>\n",
       "    </tr>\n",
       "  </tbody>\n",
       "</table>\n",
       "</div>"
      ],
      "text/plain": [
       "      Rarity  price  Soul_income  Soul_expense  Seals_Ascension  \\\n",
       "0       Rare    1.3           50           150               19   \n",
       "1       Epic    2.5          250          1500               30   \n",
       "2  Legendary   14.0         2000          7960              110   \n",
       "\n",
       "   Soul_Value_Market  Soul_Value_Recycle  Seals_value  \n",
       "0          38.461538          115.384615    14.615385  \n",
       "1         100.000000          600.000000    12.000000  \n",
       "2         142.857143          568.571429     7.857143  "
      ]
     },
     "execution_count": 13,
     "metadata": {},
     "output_type": "execute_result"
    }
   ],
   "source": [
    "df = pd.read_csv('Rad_Soul_Economics.csv')\n",
    "df['Soul_Value_Market'] = df['Soul_income']/df['price']\n",
    "df['Soul_Value_Recycle'] = df['Soul_expense']/df['price']\n",
    "df['Seals_value()'] = df['Seals_Ascension']/df['price']\n",
    "df"
   ]
  },
  {
   "cell_type": "code",
   "execution_count": 17,
   "metadata": {},
   "outputs": [
    {
     "data": {
      "text/plain": [
       "0.052"
      ]
     },
     "execution_count": 17,
     "metadata": {},
     "output_type": "execute_result"
    }
   ],
   "source": []
  }
 ],
 "metadata": {
  "kernelspec": {
   "display_name": "Python 3 (ipykernel)",
   "language": "python",
   "name": "python3"
  }
 },
 "nbformat": 4,
 "nbformat_minor": 2
}
