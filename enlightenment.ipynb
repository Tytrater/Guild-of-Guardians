{
 "cells": [
  {
   "cell_type": "code",
   "execution_count": 5,
   "metadata": {},
   "outputs": [
    {
     "data": {
      "text/plain": [
       "'Z:\\\\Zip\\\\Media\\\\Games\\\\Guild of Guardians\\\\data'"
      ]
     },
     "execution_count": 5,
     "metadata": {},
     "output_type": "execute_result"
    }
   ],
   "source": [
    "import pandas as pd\n",
    "import os\n",
    "import csv\n",
    "os.getcwd()"
   ]
  },
  {
   "cell_type": "code",
   "execution_count": 14,
   "metadata": {},
   "outputs": [
    {
     "name": "stdout",
     "output_type": "stream",
     "text": [
      "['ferulia', 'batu', 'andronica']\n",
      "['derisda', 'aquiris', 'tusgrog', 'palmera', 'morana']\n"
     ]
    }
   ],
   "source": [
    "def get_names(rarity):\n",
    "    names = []\n",
    "    with open(rarity, mode='r') as file:\n",
    "        reader = csv.reader(file)\n",
    "        for row in reader:\n",
    "            for name in row:\n",
    "                names.append(name)\n",
    "    return names\n",
    "\n",
    "souls_needed = 8000\n",
    "rare = get_names('csv/Guardian_Rarity/rare.csv')\n",
    "print(rare)\n",
    "epic = get_names('csv/Guardian_Rarity/epic.csv')\n",
    "print(epic)"
   ]
  },
  {
   "cell_type": "code",
   "execution_count": 35,
   "metadata": {},
   "outputs": [
    {
     "data": {
      "text/html": [
       "<div>\n",
       "<style scoped>\n",
       "    .dataframe tbody tr th:only-of-type {\n",
       "        vertical-align: middle;\n",
       "    }\n",
       "\n",
       "    .dataframe tbody tr th {\n",
       "        vertical-align: top;\n",
       "    }\n",
       "\n",
       "    .dataframe thead th {\n",
       "        text-align: right;\n",
       "    }\n",
       "</style>\n",
       "<table border=\"1\" class=\"dataframe\">\n",
       "  <thead>\n",
       "    <tr style=\"text-align: right;\">\n",
       "      <th></th>\n",
       "      <th>souls</th>\n",
       "      <th>derisda</th>\n",
       "      <th>aquiris</th>\n",
       "      <th>tusgrog</th>\n",
       "      <th>palmera</th>\n",
       "      <th>morana</th>\n",
       "      <th>andronica</th>\n",
       "      <th>batu</th>\n",
       "      <th>ferulia</th>\n",
       "      <th>rare</th>\n",
       "      <th>epic</th>\n",
       "    </tr>\n",
       "  </thead>\n",
       "  <tbody>\n",
       "    <tr>\n",
       "      <th>0</th>\n",
       "      <td>8150</td>\n",
       "      <td>8</td>\n",
       "      <td>11</td>\n",
       "      <td>10</td>\n",
       "      <td>11</td>\n",
       "      <td>11</td>\n",
       "      <td>13</td>\n",
       "      <td>25</td>\n",
       "      <td>12</td>\n",
       "      <td>50</td>\n",
       "      <td>51</td>\n",
       "    </tr>\n",
       "  </tbody>\n",
       "</table>\n",
       "</div>"
      ],
      "text/plain": [
       "   souls  derisda  aquiris  tusgrog  palmera  morana  andronica  batu  \\\n",
       "0   8150        8       11       10       11      11         13    25   \n",
       "\n",
       "   ferulia  rare  epic  \n",
       "0       12    50    51  "
      ]
     },
     "execution_count": 35,
     "metadata": {},
     "output_type": "execute_result"
    }
   ],
   "source": [
    "box = 8110\n",
    "df = pd.read_csv('csv\\souls\\keeper.csv')\n",
    "df['rare'] = df.filter(rare).sum(axis=1)\n",
    "df['epic'] = df.filter(epic).sum(axis=1)\n",
    "df"
   ]
  },
  {
   "cell_type": "code",
   "execution_count": 40,
   "metadata": {},
   "outputs": [
    {
     "name": "stdout",
     "output_type": "stream",
     "text": [
      "rare souls: 500\n",
      "epic souls: 5100\n",
      "keeper souls: 13750\n"
     ]
    }
   ],
   "source": [
    "keeper_rare = 10*df['rare'][0]\n",
    "keeper_epic = 100*df['epic'][0]\n",
    "keeper = df['souls'][0] + keeper_rare + keeper_epic\n",
    "print('rare souls: ' + str(keeper_rare))\n",
    "print('epic souls: ' + str(keeper_epic))\n",
    "print('keeper souls: ' + str(keeper))"
   ]
  },
  {
   "cell_type": "code",
   "execution_count": 10,
   "metadata": {},
   "outputs": [
    {
     "name": "stdout",
     "output_type": "stream",
     "text": [
      "2.4\n"
     ]
    }
   ],
   "source": [
    "souls_tot = inv + box + sum(rare)*10 + sum(epic)*100 + sum(leggy)*500\n",
    "guardians = round(souls_tot/souls_needed,1)\n",
    "print(guardians)\n"
   ]
  }
 ],
 "metadata": {
  "kernelspec": {
   "display_name": "Python 3 (ipykernel)",
   "language": "python",
   "name": "python3"
  }
 },
 "nbformat": 4,
 "nbformat_minor": 2
}
