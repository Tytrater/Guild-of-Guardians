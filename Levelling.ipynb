{
 "cells": [
  {
   "cell_type": "code",
   "execution_count": 3,
   "metadata": {},
   "outputs": [
    {
     "data": {
      "text/plain": [
       "'Z:\\\\Raw\\\\Media\\\\Games\\\\Guild of Guardians\\\\data'"
      ]
     },
     "execution_count": 3,
     "metadata": {},
     "output_type": "execute_result"
    }
   ],
   "source": [
    "import pandas as pd\n",
    "import os\n",
    "os.getcwd()"
   ]
  },
  {
   "cell_type": "code",
   "execution_count": 4,
   "metadata": {},
   "outputs": [
    {
     "data": {
      "text/html": [
       "<div>\n",
       "<style scoped>\n",
       "    .dataframe tbody tr th:only-of-type {\n",
       "        vertical-align: middle;\n",
       "    }\n",
       "\n",
       "    .dataframe tbody tr th {\n",
       "        vertical-align: top;\n",
       "    }\n",
       "\n",
       "    .dataframe thead th {\n",
       "        text-align: right;\n",
       "    }\n",
       "</style>\n",
       "<table border=\"1\" class=\"dataframe\">\n",
       "  <thead>\n",
       "    <tr style=\"text-align: right;\">\n",
       "      <th></th>\n",
       "      <th>level</th>\n",
       "      <th>scrolls(L)</th>\n",
       "      <th>level_diff</th>\n",
       "      <th>scrolls_diff</th>\n",
       "      <th>Marginal_Effect</th>\n",
       "    </tr>\n",
       "  </thead>\n",
       "  <tbody>\n",
       "    <tr>\n",
       "      <th>0</th>\n",
       "      <td>80</td>\n",
       "      <td>283</td>\n",
       "      <td>NaN</td>\n",
       "      <td>NaN</td>\n",
       "      <td>NaN</td>\n",
       "    </tr>\n",
       "    <tr>\n",
       "      <th>1</th>\n",
       "      <td>100</td>\n",
       "      <td>766</td>\n",
       "      <td>20.0</td>\n",
       "      <td>483.0</td>\n",
       "      <td>24.15</td>\n",
       "    </tr>\n",
       "    <tr>\n",
       "      <th>2</th>\n",
       "      <td>110</td>\n",
       "      <td>1170</td>\n",
       "      <td>10.0</td>\n",
       "      <td>404.0</td>\n",
       "      <td>40.40</td>\n",
       "    </tr>\n",
       "    <tr>\n",
       "      <th>3</th>\n",
       "      <td>120</td>\n",
       "      <td>1643</td>\n",
       "      <td>10.0</td>\n",
       "      <td>473.0</td>\n",
       "      <td>47.30</td>\n",
       "    </tr>\n",
       "    <tr>\n",
       "      <th>4</th>\n",
       "      <td>130</td>\n",
       "      <td>2100</td>\n",
       "      <td>10.0</td>\n",
       "      <td>457.0</td>\n",
       "      <td>45.70</td>\n",
       "    </tr>\n",
       "  </tbody>\n",
       "</table>\n",
       "</div>"
      ],
      "text/plain": [
       "   level  scrolls(L)  level_diff  scrolls_diff  Marginal_Effect\n",
       "0     80         283         NaN           NaN              NaN\n",
       "1    100         766        20.0         483.0            24.15\n",
       "2    110        1170        10.0         404.0            40.40\n",
       "3    120        1643        10.0         473.0            47.30\n",
       "4    130        2100        10.0         457.0            45.70"
      ]
     },
     "execution_count": 4,
     "metadata": {},
     "output_type": "execute_result"
    }
   ],
   "source": [
    "df = pd.read_csv('Levelling/Levelling.csv')\n",
    "df['level_diff'] = df['level'].diff()\n",
    "df['scrolls_diff'] = df['scrolls(L)'].diff()\n",
    "df['Marginal_Effect'] = df['scrolls_diff'] / df['level_diff']\n",
    "df"
   ]
  },
  {
   "cell_type": "code",
   "execution_count": 19,
   "metadata": {},
   "outputs": [
    {
     "name": "stdout",
     "output_type": "stream",
     "text": [
      "1440.857142857143\n",
      "0.8120166567519334\n"
     ]
    }
   ],
   "source": [
    "scrolls = 11000-457-457\n",
    "guardians = 7\n",
    "scroll_per_guardian = scrolls/guardians\n",
    "print(scroll_per_guardian)\n",
    "\n",
    "\n"
   ]
  },
  {
   "cell_type": "markdown",
   "metadata": {},
   "source": [
    "Check Data Source\n",
    "lvl 110-120 should not require more scrolls than 120-130"
   ]
  }
 ],
 "metadata": {
  "kernelspec": {
   "display_name": "Python 3 (ipykernel)",
   "language": "python",
   "name": "python3"
  }
 },
 "nbformat": 4,
 "nbformat_minor": 2
}
