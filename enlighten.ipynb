{
 "cells": [
  {
   "cell_type": "code",
   "execution_count": 23,
   "metadata": {},
   "outputs": [],
   "source": [
    "import statistics\n",
    "import pandas as pd\n",
    "import math"
   ]
  },
  {
   "cell_type": "code",
   "execution_count": 17,
   "metadata": {},
   "outputs": [
    {
     "name": "stdout",
     "output_type": "stream",
     "text": [
      "['mountain']\n"
     ]
    },
    {
     "data": {
      "text/html": [
       "<div>\n",
       "<style scoped>\n",
       "    .dataframe tbody tr th:only-of-type {\n",
       "        vertical-align: middle;\n",
       "    }\n",
       "\n",
       "    .dataframe tbody tr th {\n",
       "        vertical-align: top;\n",
       "    }\n",
       "\n",
       "    .dataframe thead th {\n",
       "        text-align: right;\n",
       "    }\n",
       "</style>\n",
       "<table border=\"1\" class=\"dataframe\">\n",
       "  <thead>\n",
       "    <tr style=\"text-align: right;\">\n",
       "      <th></th>\n",
       "      <th>size</th>\n",
       "      <th>quant</th>\n",
       "      <th>price</th>\n",
       "      <th>price_unit</th>\n",
       "    </tr>\n",
       "  </thead>\n",
       "  <tbody>\n",
       "    <tr>\n",
       "      <th>0</th>\n",
       "      <td>handful</td>\n",
       "      <td>40</td>\n",
       "      <td>32.37</td>\n",
       "      <td>0.80925</td>\n",
       "    </tr>\n",
       "    <tr>\n",
       "      <th>1</th>\n",
       "      <td>chest</td>\n",
       "      <td>600</td>\n",
       "      <td>432.33</td>\n",
       "      <td>0.72055</td>\n",
       "    </tr>\n",
       "    <tr>\n",
       "      <th>2</th>\n",
       "      <td>mountain</td>\n",
       "      <td>3000</td>\n",
       "      <td>1799.85</td>\n",
       "      <td>0.59995</td>\n",
       "    </tr>\n",
       "  </tbody>\n",
       "</table>\n",
       "</div>"
      ],
      "text/plain": [
       "       size  quant    price  price_unit\n",
       "0   handful     40    32.37     0.80925\n",
       "1     chest    600   432.33     0.72055\n",
       "2  mountain   3000  1799.85     0.59995"
      ]
     },
     "execution_count": 17,
     "metadata": {},
     "output_type": "execute_result"
    }
   ],
   "source": [
    "# Price of Ascension seals (GoG)\n",
    "sku_seal = ['handful','chest','mountain']\n",
    "sku_quant = [40,600,3000]\n",
    "sku_price = [32.37,432.33,1799.85]\n",
    "# sku = dict(sku_seal:sku_quant)\n",
    "sku = pd.DataFrame(\n",
    "    {'size': sku_seal,\n",
    "     'quant':sku_quant,\n",
    "     'price':sku_price\n",
    "     })\n",
    "sku['price_unit'] = sku['price']/sku['quant']\n",
    "min = sku[sku['price_unit'] == sku['price_unit'].min()].index\n",
    "size = sku['size'][min].values\n",
    "print(size)\n",
    "sku"
   ]
  },
  {
   "cell_type": "code",
   "execution_count": 39,
   "metadata": {},
   "outputs": [
    {
     "name": "stdout",
     "output_type": "stream",
     "text": [
      "rare enlighten cost(GoG):11.4\n",
      "heart minting cost (GoG): 12.4\n"
     ]
    }
   ],
   "source": [
    "#Rare Enlightenment cost (GoG)\n",
    "seals = 19\n",
    "gog = seals * sku['price_unit'].min()\n",
    "print('rare enlighten cost(GoG):' + str(round(gog,1)))\n",
    "print('heart minting cost (GoG): ' + str(round(gog + 1,1)))\n"
   ]
  },
  {
   "cell_type": "code",
   "execution_count": 31,
   "metadata": {},
   "outputs": [
    {
     "name": "stdout",
     "output_type": "stream",
     "text": [
      "hearts needed: 18\n"
     ]
    }
   ],
   "source": [
    "foundrs = 9\n",
    "hearts = 2\n",
    "hearts_tot = foundrs*hearts\n",
    "print('hearts needed: ' + str(hearts_tot))"
   ]
  },
  {
   "cell_type": "code",
   "execution_count": 32,
   "metadata": {},
   "outputs": [
    {
     "name": "stdout",
     "output_type": "stream",
     "text": [
      "rare guardians needed: 54\n",
      "rares needed per guardian: 6.75\n",
      "seals needed: 1026\n"
     ]
    }
   ],
   "source": [
    "rares = 3\n",
    "tot_rare = rares*hearts_tot\n",
    "print('rare guardians needed: ' + str(tot_rare))\n",
    "print('rares needed per guardian: ' + str(tot_rare/8))\n",
    "print('seals needed: ' + str(tot_rare * seals))"
   ]
  },
  {
   "cell_type": "code",
   "execution_count": 27,
   "metadata": {},
   "outputs": [
    {
     "name": "stdout",
     "output_type": "stream",
     "text": [
      "40\n",
      "excess rares: 13\n"
     ]
    }
   ],
   "source": [
    "inv_shards = [382,294,447,294,622,157,266,208]\n",
    "inv_rares = 0\n",
    "for shard in inv_shards:\n",
    "    inv_rares += math.floor(shard/60)\n",
    "print(inv_rares)\n",
    "print('excess rares: ' + str(inv_rares - tot_rare))\n",
    "print()"
   ]
  },
  {
   "cell_type": "code",
   "execution_count": 12,
   "metadata": {},
   "outputs": [
    {
     "name": "stdout",
     "output_type": "stream",
     "text": [
      "[19.15, 19.15, 19.15, 19.15, 1]\n",
      "15.52\n"
     ]
    }
   ],
   "source": [
    "price_rare = [19.15]*4\n",
    "price_rare.append(1)\n",
    "print(price_rare)\n",
    "price_rare_avg = statistics.mean(price_rare)\n",
    "print(price_rare_avg)"
   ]
  },
  {
   "cell_type": "code",
   "execution_count": null,
   "metadata": {},
   "outputs": [],
   "source": []
  }
 ],
 "metadata": {
  "kernelspec": {
   "display_name": "Python 3 (ipykernel)",
   "language": "python",
   "name": "python3"
  },
  "language_info": {
   "codemirror_mode": {
    "name": "ipython",
    "version": 3
   },
   "file_extension": ".py",
   "mimetype": "text/x-python",
   "name": "python",
   "nbconvert_exporter": "python",
   "pygments_lexer": "ipython3",
   "version": "3.11.7"
  }
 },
 "nbformat": 4,
 "nbformat_minor": 2
}
