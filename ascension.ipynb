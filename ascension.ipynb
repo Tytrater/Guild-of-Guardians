{
 "cells": [
  {
   "cell_type": "code",
   "execution_count": 68,
   "metadata": {},
   "outputs": [
    {
     "name": "stderr",
     "output_type": "stream",
     "text": [
      "C:\\Users\\17023\\AppData\\Local\\Temp\\ipykernel_22228\\2813052486.py:24: UserWarning: You are merging on int and float columns where the float values are not equal to their int representation.\n",
      "  df_new = pd.merge(df_econ,new_row,how='outer')\n"
     ]
    },
    {
     "data": {
      "text/html": [
       "<div>\n",
       "<style scoped>\n",
       "    .dataframe tbody tr th:only-of-type {\n",
       "        vertical-align: middle;\n",
       "    }\n",
       "\n",
       "    .dataframe tbody tr th {\n",
       "        vertical-align: top;\n",
       "    }\n",
       "\n",
       "    .dataframe thead th {\n",
       "        text-align: right;\n",
       "    }\n",
       "</style>\n",
       "<table border=\"1\" class=\"dataframe\">\n",
       "  <thead>\n",
       "    <tr style=\"text-align: right;\">\n",
       "      <th></th>\n",
       "      <th>cost_seals</th>\n",
       "      <th>cost_GoG</th>\n",
       "    </tr>\n",
       "  </thead>\n",
       "  <tbody>\n",
       "    <tr>\n",
       "      <th>rare</th>\n",
       "      <td>19.0</td>\n",
       "      <td>17.1</td>\n",
       "    </tr>\n",
       "    <tr>\n",
       "      <th>epic</th>\n",
       "      <td>32.0</td>\n",
       "      <td>28.8</td>\n",
       "    </tr>\n",
       "    <tr>\n",
       "      <th>leggy</th>\n",
       "      <td>229.0</td>\n",
       "      <td>206.1</td>\n",
       "    </tr>\n",
       "  </tbody>\n",
       "</table>\n",
       "</div>"
      ],
      "text/plain": [
       "       cost_seals  cost_GoG\n",
       "rare         19.0      17.1\n",
       "epic         32.0      28.8\n",
       "leggy       229.0     206.1"
      ]
     },
     "execution_count": 68,
     "metadata": {},
     "output_type": "execute_result"
    }
   ],
   "source": [
    "import pandas as pd\n",
    "import os\n",
    "os.getcwd()\n",
    "\n",
    "path = 'csv/ascension_seals_prices/'\n",
    "df_seals_price = pd.read_csv(f'{path}price.csv')\n",
    "df_seals_quant = pd.read_csv(f'{path}quantity.csv')\n",
    "price = df_seals_price.iloc[1]['gog_mountain']\n",
    "quant = df_seals_quant.iloc[0]['seals_mountain']\n",
    "\n",
    "path = 'csv/'\n",
    "df_ascension = pd.read_csv(f'{path}Rad_Soul_Economics.csv')\n",
    "ascension_rare = df_ascension.iloc[0]['Seals_Ascension']\n",
    "ascension_epic = df_ascension.iloc[1]['Seals_Ascension']\n",
    "ascension_leggy = df_ascension.iloc[2]['Seals_Ascension']\n",
    "\n",
    "cost_asc = {'rare':ascension_rare,\n",
    "            'epic':ascension_epic,\n",
    "            'leggy':ascension_leggy}\n",
    "df_econ = pd.DataFrame(cost_asc,index=['cost'])\n",
    "\n",
    "variable = round(quant/price,1)\n",
    "new_row = df_econ.apply(lambda x: x * variable, axis=1)\n",
    "df_new = pd.merge(df_econ,new_row,how='outer')\n",
    "df_transpose  = (df_new.T)\n",
    "df_columns = df_transpose.rename(columns={0:'cost_seals',\n",
    "                                 1:'cost_GoG'})\n",
    "df_columns\n"
   ]
  },
  {
   "cell_type": "code",
   "execution_count": null,
   "metadata": {},
   "outputs": [],
   "source": [
    "seals_price['unit price'] = seals_price['gog']/seals_price['seals']\n",
    "print(seals_price)\n",
    "print()\n",
    "ascend_cost = pd.read_csv('data/csv\\Rad_Soul_Economics.csv')\n",
    "ascend_cost['cost(gog)'] = ascend_cost['Seals_Ascension']*seals_price['unit price'].min()\n",
    "ascend_cost['profit(GoG)'] = ascend_cost['floor'] - ascend_cost['cost(gog)']\n",
    "ascend_cost['profit(GoG/Seal)'] = ascend_cost['profit(GoG)']/ascend_cost['Seals_Ascension']\n",
    "print(ascend_cost)"
   ]
  },
  {
   "cell_type": "code",
   "execution_count": 13,
   "metadata": {},
   "outputs": [
    {
     "name": "stdout",
     "output_type": "stream",
     "text": [
      "     bundle  seals      gog  unit price\n",
      "0   handful     40    80.71    2.017750\n",
      "1     chest    600  1078.04    1.796733\n",
      "2  mountain   3000  4488.00    1.496000\n",
      "\n",
      "      Rarity  price  Soul_income  Soul_expense  Seals_Ascension  floor  \\\n",
      "0       Rare    1.3           50           150               19   37.0   \n",
      "1       Epic    2.5          250          1500               32   62.5   \n",
      "2  Legendary   14.0         2000          7960              229  400.0   \n",
      "\n",
      "   cost(gog)  profit(GoG)  profit(GoG/Seal)  \n",
      "0     28.424        8.576          0.451368  \n",
      "1     47.872       14.628          0.457125  \n",
      "2    342.584       57.416          0.250725  \n"
     ]
    }
   ],
   "source": [
    "\n"
   ]
  },
  {
   "cell_type": "code",
   "execution_count": 7,
   "metadata": {},
   "outputs": [
    {
     "data": {
      "text/html": [
       "<div>\n",
       "<style scoped>\n",
       "    .dataframe tbody tr th:only-of-type {\n",
       "        vertical-align: middle;\n",
       "    }\n",
       "\n",
       "    .dataframe tbody tr th {\n",
       "        vertical-align: top;\n",
       "    }\n",
       "\n",
       "    .dataframe thead th {\n",
       "        text-align: right;\n",
       "    }\n",
       "</style>\n",
       "<table border=\"1\" class=\"dataframe\">\n",
       "  <thead>\n",
       "    <tr style=\"text-align: right;\">\n",
       "      <th></th>\n",
       "      <th>Rarity</th>\n",
       "      <th>price</th>\n",
       "      <th>Soul_income</th>\n",
       "      <th>Soul_expense</th>\n",
       "      <th>Seals_Ascension</th>\n",
       "      <th>cost(gog)</th>\n",
       "    </tr>\n",
       "  </thead>\n",
       "  <tbody>\n",
       "    <tr>\n",
       "      <th>0</th>\n",
       "      <td>Rare</td>\n",
       "      <td>1.3</td>\n",
       "      <td>50</td>\n",
       "      <td>150</td>\n",
       "      <td>19</td>\n",
       "      <td>28.424</td>\n",
       "    </tr>\n",
       "    <tr>\n",
       "      <th>1</th>\n",
       "      <td>Epic</td>\n",
       "      <td>2.5</td>\n",
       "      <td>250</td>\n",
       "      <td>1500</td>\n",
       "      <td>32</td>\n",
       "      <td>47.872</td>\n",
       "    </tr>\n",
       "    <tr>\n",
       "      <th>2</th>\n",
       "      <td>Legendary</td>\n",
       "      <td>14.0</td>\n",
       "      <td>2000</td>\n",
       "      <td>7960</td>\n",
       "      <td>229</td>\n",
       "      <td>342.584</td>\n",
       "    </tr>\n",
       "  </tbody>\n",
       "</table>\n",
       "</div>"
      ],
      "text/plain": [
       "      Rarity  price  Soul_income  Soul_expense  Seals_Ascension  cost(gog)\n",
       "0       Rare    1.3           50           150               19     28.424\n",
       "1       Epic    2.5          250          1500               32     47.872\n",
       "2  Legendary   14.0         2000          7960              229    342.584"
      ]
     },
     "execution_count": 7,
     "metadata": {},
     "output_type": "execute_result"
    }
   ],
   "source": []
  },
  {
   "cell_type": "code",
   "execution_count": 14,
   "metadata": {},
   "outputs": [
    {
     "data": {
      "text/html": [
       "<div>\n",
       "<style scoped>\n",
       "    .dataframe tbody tr th:only-of-type {\n",
       "        vertical-align: middle;\n",
       "    }\n",
       "\n",
       "    .dataframe tbody tr th {\n",
       "        vertical-align: top;\n",
       "    }\n",
       "\n",
       "    .dataframe thead th {\n",
       "        text-align: right;\n",
       "    }\n",
       "</style>\n",
       "<table border=\"1\" class=\"dataframe\">\n",
       "  <thead>\n",
       "    <tr style=\"text-align: right;\">\n",
       "      <th></th>\n",
       "      <th>hero</th>\n",
       "      <th>owned</th>\n",
       "      <th>needed</th>\n",
       "    </tr>\n",
       "  </thead>\n",
       "  <tbody>\n",
       "    <tr>\n",
       "      <th>0</th>\n",
       "      <td>huurk</td>\n",
       "      <td>4</td>\n",
       "      <td>3</td>\n",
       "    </tr>\n",
       "    <tr>\n",
       "      <th>1</th>\n",
       "      <td>toktun</td>\n",
       "      <td>3</td>\n",
       "      <td>4</td>\n",
       "    </tr>\n",
       "    <tr>\n",
       "      <th>2</th>\n",
       "      <td>yalmar</td>\n",
       "      <td>5</td>\n",
       "      <td>2</td>\n",
       "    </tr>\n",
       "    <tr>\n",
       "      <th>3</th>\n",
       "      <td>okubo</td>\n",
       "      <td>9</td>\n",
       "      <td>5</td>\n",
       "    </tr>\n",
       "  </tbody>\n",
       "</table>\n",
       "</div>"
      ],
      "text/plain": [
       "     hero  owned  needed\n",
       "0   huurk      4       3\n",
       "1  toktun      3       4\n",
       "2  yalmar      5       2\n",
       "3   okubo      9       5"
      ]
     },
     "execution_count": 14,
     "metadata": {},
     "output_type": "execute_result"
    }
   ],
   "source": [
    "rare_dupes = 7\n",
    "dupes = pd.read_csv('csv\\hero_dupes/rare.csv')\n",
    "dupes['needed'] = rare_dupes - dupes['owned']%rare_dupes\n",
    "dupes"
   ]
  }
 ],
 "metadata": {
  "kernelspec": {
   "display_name": "Python 3 (ipykernel)",
   "language": "python",
   "name": "python3"
  },
  "language_info": {
   "codemirror_mode": {
    "name": "ipython",
    "version": 3
   },
   "file_extension": ".py",
   "mimetype": "text/x-python",
   "name": "python",
   "nbconvert_exporter": "python",
   "pygments_lexer": "ipython3",
   "version": "3.11.7"
  }
 },
 "nbformat": 4,
 "nbformat_minor": 2
}
