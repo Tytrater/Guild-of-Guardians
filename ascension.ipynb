{
 "cells": [
  {
   "cell_type": "code",
   "execution_count": 10,
   "metadata": {},
   "outputs": [
    {
     "data": {
      "text/html": [
       "<div>\n",
       "<style scoped>\n",
       "    .dataframe tbody tr th:only-of-type {\n",
       "        vertical-align: middle;\n",
       "    }\n",
       "\n",
       "    .dataframe tbody tr th {\n",
       "        vertical-align: top;\n",
       "    }\n",
       "\n",
       "    .dataframe thead th {\n",
       "        text-align: right;\n",
       "    }\n",
       "</style>\n",
       "<table border=\"1\" class=\"dataframe\">\n",
       "  <thead>\n",
       "    <tr style=\"text-align: right;\">\n",
       "      <th></th>\n",
       "      <th>Rarity</th>\n",
       "      <th>price</th>\n",
       "      <th>Soul_income</th>\n",
       "      <th>Soul_expense</th>\n",
       "      <th>Seals_Ascension</th>\n",
       "      <th>cost(gog)</th>\n",
       "    </tr>\n",
       "  </thead>\n",
       "  <tbody>\n",
       "    <tr>\n",
       "      <th>0</th>\n",
       "      <td>Rare</td>\n",
       "      <td>1.3</td>\n",
       "      <td>50</td>\n",
       "      <td>150</td>\n",
       "      <td>19</td>\n",
       "      <td>13.887353</td>\n",
       "    </tr>\n",
       "    <tr>\n",
       "      <th>1</th>\n",
       "      <td>Epic</td>\n",
       "      <td>2.5</td>\n",
       "      <td>250</td>\n",
       "      <td>1500</td>\n",
       "      <td>30</td>\n",
       "      <td>21.927400</td>\n",
       "    </tr>\n",
       "    <tr>\n",
       "      <th>2</th>\n",
       "      <td>Legendary</td>\n",
       "      <td>14.0</td>\n",
       "      <td>2000</td>\n",
       "      <td>7960</td>\n",
       "      <td>110</td>\n",
       "      <td>80.400467</td>\n",
       "    </tr>\n",
       "  </tbody>\n",
       "</table>\n",
       "</div>"
      ],
      "text/plain": [
       "      Rarity  price  Soul_income  Soul_expense  Seals_Ascension  cost(gog)\n",
       "0       Rare    1.3           50           150               19  13.887353\n",
       "1       Epic    2.5          250          1500               30  21.927400\n",
       "2  Legendary   14.0         2000          7960              110  80.400467"
      ]
     },
     "execution_count": 10,
     "metadata": {},
     "output_type": "execute_result"
    }
   ],
   "source": [
    "import pandas as pd\n",
    "seals_price = pd.read_csv('csv/ascension_seals_prices.csv')\n",
    "seals_price['unit price'] = df['gog']/df['seals']\n",
    "ascend_cost = pd.read_csv('csv\\Rad_Soul_Economics.csv')\n",
    "ascend_cost['cost(gog)'] = ascend_cost['Seals_Ascension']*seals_price['unit price'].min()\n",
    "ascend_cost"
   ]
  },
  {
   "cell_type": "code",
   "execution_count": 14,
   "metadata": {},
   "outputs": [
    {
     "data": {
      "text/html": [
       "<div>\n",
       "<style scoped>\n",
       "    .dataframe tbody tr th:only-of-type {\n",
       "        vertical-align: middle;\n",
       "    }\n",
       "\n",
       "    .dataframe tbody tr th {\n",
       "        vertical-align: top;\n",
       "    }\n",
       "\n",
       "    .dataframe thead th {\n",
       "        text-align: right;\n",
       "    }\n",
       "</style>\n",
       "<table border=\"1\" class=\"dataframe\">\n",
       "  <thead>\n",
       "    <tr style=\"text-align: right;\">\n",
       "      <th></th>\n",
       "      <th>hero</th>\n",
       "      <th>owned</th>\n",
       "      <th>needed</th>\n",
       "    </tr>\n",
       "  </thead>\n",
       "  <tbody>\n",
       "    <tr>\n",
       "      <th>0</th>\n",
       "      <td>huurk</td>\n",
       "      <td>4</td>\n",
       "      <td>3</td>\n",
       "    </tr>\n",
       "    <tr>\n",
       "      <th>1</th>\n",
       "      <td>toktun</td>\n",
       "      <td>3</td>\n",
       "      <td>4</td>\n",
       "    </tr>\n",
       "    <tr>\n",
       "      <th>2</th>\n",
       "      <td>yalmar</td>\n",
       "      <td>5</td>\n",
       "      <td>2</td>\n",
       "    </tr>\n",
       "    <tr>\n",
       "      <th>3</th>\n",
       "      <td>okubo</td>\n",
       "      <td>9</td>\n",
       "      <td>5</td>\n",
       "    </tr>\n",
       "  </tbody>\n",
       "</table>\n",
       "</div>"
      ],
      "text/plain": [
       "     hero  owned  needed\n",
       "0   huurk      4       3\n",
       "1  toktun      3       4\n",
       "2  yalmar      5       2\n",
       "3   okubo      9       5"
      ]
     },
     "execution_count": 14,
     "metadata": {},
     "output_type": "execute_result"
    }
   ],
   "source": [
    "rare_dupes = 7\n",
    "dupes = pd.read_csv('csv\\hero_dupes/rare.csv')\n",
    "dupes['needed'] = rare_dupes - dupes['owned']%rare_dupes\n",
    "dupes"
   ]
  }
 ],
 "metadata": {
  "kernelspec": {
   "display_name": "Python 3 (ipykernel)",
   "language": "python",
   "name": "python3"
  }
 },
 "nbformat": 4,
 "nbformat_minor": 2
}
